# Cell 1: Imports
import cv2
import numpy as np
from google.colab.patches import cv2_imshow

# Cell 2: Encode Function
def encode_image(image_path, message, output_path):
    image = cv2.imread(image_path)
    if image is None:
        print("❌ Image not found.")
        return
    message += "###"
    binary_msg = ''.join([format(ord(char), '08b') for char in message])
    msg_index = 0
    for row in image:
        for pixel in row:
            for i in range(3):
                if msg_index < len(binary_msg):
                    pixel[i] = (pixel[i] & ~1) | int(binary_msg[msg_index])
                    msg_index += 1
    cv2.imwrite(output_path, image)
    print("✅ Message encoded successfully into:", output_path)

# Cell 3: Decode Function
def decode_image(image_path):
    image = cv2.imread(image_path)
    binary_data = ""
    for row in image:
        for pixel in row:
            for i in range(3):
                binary_data += str(pixel[i] & 1)
    all_bytes = [binary_data[i:i+8] for i in range(0, len(binary_data), 8)]
    message = ""
    for byte in all_bytes:
        char = chr(int(byte, 2))
        message += char
        if message.endswith("###"):
            break
    print("📩 Hidden Message:", message[:-3])

# Cell 4: Example Usage
encode_image("input.png", "This is a hidden message!", "output_encoded.png")
cv2_imshow(cv2.imread("output_encoded.png"))
decode_image("output_encoded.png")
