{
  "cells": [
    {
      "cell_type": "markdown",
      "metadata": {},
      "source": [
        "# 🖼️ Project_Code.ipynb\n",
        "### Steganography - Hiding Information in the Image\n",
        "This notebook demonstrates how to hide and retrieve secret messages within images using the Least Significant Bit (LSB) method in Python with OpenCV."
      ]
    },
    {
      "cell_type": "markdown",
      "metadata": {},
      "source": [
        "**👤 Author:** Vijay Kumar  \n",
        "**📅 Date:** 24 June 2025  \n",
        "**🛠️ Tech:** Python, OpenCV, NumPy, Google Colab"
      ]
    },
    {
      "cell_type": "markdown",
      "metadata": {},
      "source": [
        "## 📦 Installation\n",
        "Install dependencies via pip:\n",
        "```bash\n",
        "pip install opencv-python numpy\n",
        "```"
      ]
    },
    {
      "cell_type": "code",
      "execution_count": null,
      "metadata": {},
      "outputs": [],
      "source": [
        "import cv2  # OpenCV for image processing\n",
        "import numpy as np  # Numerical operations\n",
        "from google.colab.patches import cv2_imshow  # For displaying images in Colab"
      ]
    },
    {
      "cell_type": "markdown",
      "metadata": {},
      "source": [
        "## 🔐 Encode Function\n",
        "Hides a text message inside an image by modifying the least significant bit of each pixel channel."
      ]
    },
    {
      "cell_type": "code",
      "execution_count": null,
      "metadata": {},
      "outputs": [],
      "source": [
        "def encode_image(image_path: str, message: str, output_path: str) -> None:\n",
        "    '''Hide `message` in `image_path`, save as `output_path` using LSB steganography.'''\n",
        "    image = cv2.imread(image_path)\n",
        "    if image is None:\n",
        "        raise FileNotFoundError(f'Image not found: {image_path}')\n",
        "    # Append delimiter to mark end of message\n",
        "    delimiter = '###'\n",
        "    data = ''.join(format(ord(c), '08b') for c in message + delimiter)\n",
        "    idx = 0\n",
        "    # Modify pixels' LSBs\n",
        "    for row in image:\n",
        "        for pixel in row:\n",
        "            for channel in range(3):  # B, G, R channels\n",
        "                if idx < len(data):\n",
        "                    pixel[channel] = (pixel[channel] & ~1) | int(data[idx])\n",
        "                    idx += 1\n",
        "    # Save stego-image\n",
        "    cv2.imwrite(output_path, image)\n",
        "    print(f'✅ Encoded and saved to {output_path}')"
      ]
    },
    {
      "cell_type": "markdown",
      "metadata": {},
      "source": [
        "## 🔓 Decode Function\n",
        "Extracts hidden message from a stego-image by reading each pixel's LSB."
      ]
    },
    {
      "cell_type": "code",
      "execution_count": null,
      "metadata": {},
      "outputs": [],
      "source": [
        "def decode_image(image_path: str) -> str:\n",
        "    '''Retrieve and return hidden message from `image_path`.'''\n",
        "    image = cv2.imread(image_path)\n",
        "    if image is None:\n",
        "        raise FileNotFoundError(f'Image not found: {image_path}')\n",
        "    bits = []\n",
        "    for row in image:\n",
        "        for pixel in row:\n",
        "            for channel in range(3):\n",
        "                bits.append(str(pixel[channel] & 1))\n",
        "    # Convert bits to characters until delimiter\n",
        "    chars = [chr(int(''.join(bits[i:i+8]), 2)) for i in range(0, len(bits), 8)]\n",
        "    message = ''.join(chars)\n",
        "    return message.split('###')[0]  # Remove delimiter"
      ]
    },
    {
      "cell_type": "markdown",
      "metadata": {},
      "source": [
        "## ▶️ Example Usage\n",
        "Encode a message, display the image, then decode it."
      ]
    },
    {
      "cell_type": "code",
      "execution_count": null,
      "metadata": {},
      "outputs": [],
      "source": [
        "# Paths and secret\n",
        "cover = 'input.png'  # Upload this in Colab or local directory\n",
        "stego = 'output_encoded.png'\n",
        "secret_msg = 'This is a secret!'\n",
        "# Encode\n",
        "encode_image(cover, secret_msg, stego)\n",
        "# Display stego-image\n",
        "cv2_imshow(cv2.imread(stego))\n",
        "# Decode\n",
        "decoded = decode_image(stego)\n",
        "print(f'📩 Hidden message: {decoded}')"
      ]
    }
  ],
  "metadata": {
    "kernelspec": {"display_name": "Python 3", "language": "python", "name": "python3"},
    "language_info": {"name": "python", "version": "3.x"}
  },
  "nbformat": 4,
  "nbformat_minor": 5
}
