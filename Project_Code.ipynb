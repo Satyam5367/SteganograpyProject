{
  "cells": [
    {
      "cell_type": "markdown",
      "metadata": {},
      "source": [
        "# 🖼️ Steganography - Hiding Information in the Image\n",
        "**A comprehensive Jupyter Notebook for embedding and extracting secret messages within images using the LSB method.**"
      ]
    },
    {
      "cell_type": "markdown",
      "metadata": {},
      "source": [
        "---\n",
        "**👤 Author:** Satyam Kumar  ",
        "**📅 Date:** 24 June 2025  ",
        "**🛠️ Technologies:** Python, OpenCV, NumPy, Google Colab"
      ]
    },
    {
      "cell_type": "markdown",
      "metadata": {},
      "source": [
        "## 📦 Installation and Setup\n",
        "```bash\n",
        "pip install opencv-python numpy\n",
        "```\n",
        "Upload your image (`input.png`) to the working directory if using Colab."
      ]
    },
    {
      "cell_type": "code",
      "execution_count": null,
      "metadata": {},
      "outputs": [],
      "source": [
        "import cv2\n",
        "import numpy as np\n",
        "from google.colab.patches import cv2_imshow  # Use cv2_imshow for Colab display"
      ]
    },
    {
      "cell_type": "markdown",
      "metadata": {},
      "source": [
        "## 🔐 Encode Function\n",
        "Encodes a text message into an image using LSB of each color channel."
      ]
    },
    {
      "cell_type": "code",
      "execution_count": null,
      "metadata": {},
      "outputs": [],
      "source": [
        "def encode_image(image_path: str, message: str, output_path: str) -> None:\n",
        "    '''\n",
        "    Hide a message inside an image.\n",
        "    Args:\n",
        "        image_path: Path to the cover image.\n",
        "        message: Text message to hide.\n",
        "        output_path: Path to save the stego-image.\n",
        "    '''\n",
        "    # Read image\n",
        "    image = cv2.imread(image_path)\n",
        "    if image is None:\n",
        "        raise FileNotFoundError(f"Image not found: {image_path}")\n",
        "    # Append delimiter and convert to binary\n",
        "    delimiter = '###'\n",
        "    binary = ''.join([format(ord(c), '08b') for c in (message + delimiter)])\n",
        "    idx = 0\n",
        "    total_bits = len(binary)\n",
        "    # Iterate pixels\n",
        "    for row in image:\n",
        "        for pixel in row:\n",
        "            for channel in range(3):  # B, G, R channels\n",
        "                if idx < total_bits:\n",
        "                    pixel[channel] = (pixel[channel] & ~1) | int(binary[idx])\n",
        "                    idx += 1\n",
        "    # Save result\n",
        "    cv2.imwrite(output_path, image)\n",
        "    print(f'✅ Encoded message saved to {output_path}')"
      ]
    },
    {
      "cell_type": "markdown",
      "metadata": {},
      "source": [
        "## 🔓 Decode Function\n",
        "Extracts a hidden message from a stego-image by reading LSBs."
      ]
    },
    {
      "cell_type": "code",
      "execution_count": null,
      "metadata": {},
      "outputs": [],
      "source": [
        "def decode_image(image_path: str) -> str:\n",
        "    '''\n",
        "    Retrieve hidden message from a stego-image.\n",
        "    Args:\n",
        "        image_path: Path to the stego-image.\n",
        "    Returns:\n",
        "        The hidden text message.\n",
        "    '''\n",
        "    image = cv2.imread(image_path)\n",
        "    if image is None:\n",
        "        raise FileNotFoundError(f"Image not found: {image_path}")\n",
        "    bits = []\n",
        "    for row in image:\n",
        "        for pixel in row:\n",
        "            for channel in range(3):\n",
        "                bits.append(str(pixel[channel] & 1))\n",
        "    # Group into bytes and decode until delimiter\n",
        "    bytes_list = [''.join(bits[i:i+8]) for i in range(0, len(bits), 8)]\n",
        "    message = ''\n",
        "    for byte in bytes_list:\n",
        "        char = chr(int(byte, 2))\n",
        "        message += char\n",
        "        if message.endswith(delimiter):\n",
        "            return message[:-len(delimiter)]\n",
        "    return message"
      ]
    },
    {
      "cell_type": "markdown",
      "metadata": {},
      "source": [
        "## ▶️ Example: Encode & Decode in One Go"
      ]
    },
    {
      "cell_type": "code",
      "execution_count": null,
      "metadata": {},
      "outputs": [],
      "source": [
        "# Paths and secret message\n",
        "cover_img = 'input.png'  # Upload this file first\n",
        "stego_img = 'output_encoded.png'\n",
        "secret = 'Confidential: Steganography works!'\n",
        "# Encode\n",
        "encode_image(cover_img, secret, stego_img)\n",
        "# Display stego-image\n",
        "img = cv2.imread(stego_img)\n",
        "cv2_imshow(img)\n",
        "# Decode and print message\n",
        "hidden = decode_image(stego_img)\n",
        "print(f'📩 Hidden message: {hidden}')"
      ]
    },
    {
      "cell_type": "markdown",
      "metadata": {},
      "source": [
        "---\n",
        "**🎯 Next Steps:** Improve resilience against compression, support larger messages, add GUI, etc."
      ]
    }
  ],
  "metadata": {
    "kernelspec": {"display_name": "Python 3", "language": "python", "name": "python3"},
    "language_info": {"name": "python", "version": "3.x"}
  },
  "nbformat": 4,
  "nbformat_minor": 5
}
